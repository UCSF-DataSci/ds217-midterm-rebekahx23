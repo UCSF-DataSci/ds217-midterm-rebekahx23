{
 "cells": [
  {
   "cell_type": "markdown",
   "metadata": {},
   "source": [
    "# Assignment 5, Question 7: Group Operations & Final Analysis\n",
    "\n",
    "**Points: 15**\n",
    "\n",
    "Perform grouped analysis and create summary reports."
   ]
  },
  {
   "cell_type": "markdown",
   "metadata": {},
   "source": [
    "## Setup"
   ]
  },
  {
   "cell_type": "code",
   "execution_count": 1,
   "metadata": {
    "execution": {
     "iopub.execute_input": "2025-10-29T06:46:08.562618Z",
     "iopub.status.busy": "2025-10-29T06:46:08.562314Z",
     "iopub.status.idle": "2025-10-29T06:46:08.881480Z",
     "shell.execute_reply": "2025-10-29T06:46:08.881066Z"
    }
   },
   "outputs": [
    {
     "name": "stdout",
     "output_type": "stream",
     "text": [
      "Loaded 10000 patients\n"
     ]
    }
   ],
   "source": [
    "import pandas as pd\n",
    "import numpy as np\n",
    "import matplotlib.pyplot as plt\n",
    "\n",
    "# Import utilities\n",
    "from q3_data_utils import load_data, summarize_by_group\n",
    "\n",
    "df = load_data('data/clinical_trial_raw.csv')\n",
    "print(f\"Loaded {len(df)} patients\")\n",
    "\n",
    "# Prewritten visualization function for grouped analysis\n",
    "def plot_group_comparison(data, x_col, y_col, title):\n",
    "    \"\"\"\n",
    "    Create a bar chart comparing groups.\n",
    "    \n",
    "    Args:\n",
    "        data: DataFrame with grouped data\n",
    "        x_col: Column name for x-axis (groups)\n",
    "        y_col: Column name for y-axis (values)\n",
    "        title: Chart title\n",
    "    \"\"\"\n",
    "    plt.figure(figsize=(10, 6))\n",
    "    data.plot(x=x_col, y=y_col, kind='bar')\n",
    "    plt.title(title)\n",
    "    plt.xticks(rotation=45)\n",
    "    plt.tight_layout()\n",
    "    plt.show()"
   ]
  },
  {
   "cell_type": "markdown",
   "metadata": {},
   "source": [
    "## Part 1: Basic Groupby (5 points)\n",
    "\n",
    "1. Group by 'site' and calculate mean age, BMI, and blood pressure\n",
    "2. Group by 'intervention_group' and count patients\n",
    "3. Use the `summarize_by_group()` utility to get overall statistics by site"
   ]
  },
  {
   "cell_type": "code",
   "execution_count": 2,
   "metadata": {
    "execution": {
     "iopub.execute_input": "2025-10-29T06:46:08.896223Z",
     "iopub.status.busy": "2025-10-29T06:46:08.896125Z",
     "iopub.status.idle": "2025-10-29T06:46:08.911666Z",
     "shell.execute_reply": "2025-10-29T06:46:08.911296Z"
    }
   },
   "outputs": [
    {
     "name": "stdout",
     "output_type": "stream",
     "text": [
      "Loaded 10000 patients\n",
      "              age        bmi  systolic_bp\n",
      "site                                     \n",
      "site a  81.213296  25.875183   117.354284\n",
      "site b  80.444030  25.706681   117.130675\n",
      "site c  80.750986  25.789583   117.978359\n",
      "site d  80.755586  25.565682   117.943662\n",
      "site e  80.415075  25.476502   117.503080\n"
     ]
    }
   ],
   "source": [
    "df = load_data('output/q6_cleaned_data.csv')\n",
    "print(f\"Loaded {len(df)} patients\")\n",
    "\n",
    "# TODO: Group by site\n",
    "summary = summarize_by_group(\n",
    "    df,\n",
    "    'site',\n",
    "    {'age': 'mean', 'bmi': 'mean', 'systolic_bp': 'mean'})\n",
    "print(summary)\n"
   ]
  },
  {
   "cell_type": "code",
   "execution_count": 3,
   "metadata": {
    "execution": {
     "iopub.execute_input": "2025-10-29T06:46:08.912607Z",
     "iopub.status.busy": "2025-10-29T06:46:08.912538Z",
     "iopub.status.idle": "2025-10-29T06:46:08.915307Z",
     "shell.execute_reply": "2025-10-29T06:46:08.914966Z"
    }
   },
   "outputs": [
    {
     "name": "stdout",
     "output_type": "stream",
     "text": [
      "                    patient_id\n",
      "intervention_group            \n",
      "control                   3337\n",
      "treatment a               3321\n",
      "treatment b               3342\n"
     ]
    }
   ],
   "source": [
    "# TODO: Count by intervention group\n",
    "summary_intervention = summarize_by_group(\n",
    "    df,\n",
    "    'intervention_group',\n",
    "    {'patient_id': 'count'})\n",
    "print(summary_intervention)"
   ]
  },
  {
   "cell_type": "markdown",
   "metadata": {},
   "source": [
    "**Note:** The `summarize_by_group()` function has an optional `agg_dict` parameter for custom aggregations. If you don't specify it, it will use `.describe()` on numeric columns. You can use `agg_dict={'age': ['mean', 'std'], 'bmi': 'mean'}` for custom aggregations.\n"
   ]
  },
  {
   "cell_type": "code",
   "execution_count": 4,
   "metadata": {
    "execution": {
     "iopub.execute_input": "2025-10-29T06:46:08.916156Z",
     "iopub.status.busy": "2025-10-29T06:46:08.916100Z",
     "iopub.status.idle": "2025-10-29T06:46:08.919305Z",
     "shell.execute_reply": "2025-10-29T06:46:08.918958Z"
    }
   },
   "outputs": [
    {
     "name": "stdout",
     "output_type": "stream",
     "text": [
      "              age        bmi  systolic_bp  patient_id\n",
      "site                                                 \n",
      "site a  81.213296  25.875183   117.354284        2956\n",
      "site b  80.444030  25.706681   117.130675        2453\n",
      "site c  80.750986  25.789583   117.978359        2073\n",
      "site d  80.755586  25.565682   117.943662        1501\n",
      "site e  80.415075  25.476502   117.503080        1017\n"
     ]
    }
   ],
   "source": [
    "# TODO: Use summarize_by_group utility\n",
    "summarize_site = summarize_by_group(\n",
    "    df,\n",
    "    'site',\n",
    "    {'age':'mean', 'bmi':'mean', 'systolic_bp':'mean', 'patient_id':'count'})\n",
    "\n",
    "print(summarize_site)\n",
    "\n"
   ]
  },
  {
   "cell_type": "markdown",
   "metadata": {},
   "source": [
    "## Part 2: Multiple Aggregations (5 points)\n",
    "\n",
    "Group by 'site' and apply multiple aggregations:\n",
    "- age: mean, std, min, max\n",
    "- bmi: mean, std\n",
    "- systolic_bp: mean, median\n",
    "\n",
    "Display the results in a well-formatted table."
   ]
  },
  {
   "cell_type": "code",
   "execution_count": 5,
   "metadata": {
    "execution": {
     "iopub.execute_input": "2025-10-29T06:46:08.920208Z",
     "iopub.status.busy": "2025-10-29T06:46:08.920152Z",
     "iopub.status.idle": "2025-10-29T06:46:08.927569Z",
     "shell.execute_reply": "2025-10-29T06:46:08.927196Z"
    }
   },
   "outputs": [
    {
     "data": {
      "text/html": [
       "<div>\n",
       "<style scoped>\n",
       "    .dataframe tbody tr th:only-of-type {\n",
       "        vertical-align: middle;\n",
       "    }\n",
       "\n",
       "    .dataframe tbody tr th {\n",
       "        vertical-align: top;\n",
       "    }\n",
       "\n",
       "    .dataframe thead tr th {\n",
       "        text-align: left;\n",
       "    }\n",
       "\n",
       "    .dataframe thead tr:last-of-type th {\n",
       "        text-align: right;\n",
       "    }\n",
       "</style>\n",
       "<table border=\"1\" class=\"dataframe\">\n",
       "  <thead>\n",
       "    <tr>\n",
       "      <th></th>\n",
       "      <th colspan=\"4\" halign=\"left\">age</th>\n",
       "      <th colspan=\"2\" halign=\"left\">bmi</th>\n",
       "      <th colspan=\"2\" halign=\"left\">systolic_bp</th>\n",
       "    </tr>\n",
       "    <tr>\n",
       "      <th></th>\n",
       "      <th>mean</th>\n",
       "      <th>std</th>\n",
       "      <th>min</th>\n",
       "      <th>max</th>\n",
       "      <th>mean</th>\n",
       "      <th>std</th>\n",
       "      <th>mean</th>\n",
       "      <th>median</th>\n",
       "    </tr>\n",
       "    <tr>\n",
       "      <th>intervention_group</th>\n",
       "      <th></th>\n",
       "      <th></th>\n",
       "      <th></th>\n",
       "      <th></th>\n",
       "      <th></th>\n",
       "      <th></th>\n",
       "      <th></th>\n",
       "      <th></th>\n",
       "    </tr>\n",
       "  </thead>\n",
       "  <tbody>\n",
       "    <tr>\n",
       "      <th>control</th>\n",
       "      <td>80.897279</td>\n",
       "      <td>13.424560</td>\n",
       "      <td>44.0</td>\n",
       "      <td>100.0</td>\n",
       "      <td>25.791325</td>\n",
       "      <td>5.218123</td>\n",
       "      <td>121.289720</td>\n",
       "      <td>121.0</td>\n",
       "    </tr>\n",
       "    <tr>\n",
       "      <th>treatment a</th>\n",
       "      <td>80.862781</td>\n",
       "      <td>13.531054</td>\n",
       "      <td>43.0</td>\n",
       "      <td>100.0</td>\n",
       "      <td>25.733061</td>\n",
       "      <td>5.291094</td>\n",
       "      <td>113.883999</td>\n",
       "      <td>114.0</td>\n",
       "    </tr>\n",
       "    <tr>\n",
       "      <th>treatment b</th>\n",
       "      <td>80.576385</td>\n",
       "      <td>13.677658</td>\n",
       "      <td>44.0</td>\n",
       "      <td>100.0</td>\n",
       "      <td>25.667179</td>\n",
       "      <td>5.506322</td>\n",
       "      <td>117.385915</td>\n",
       "      <td>117.0</td>\n",
       "    </tr>\n",
       "  </tbody>\n",
       "</table>\n",
       "</div>"
      ],
      "text/plain": [
       "                          age                                bmi            \\\n",
       "                         mean        std   min    max       mean       std   \n",
       "intervention_group                                                           \n",
       "control             80.897279  13.424560  44.0  100.0  25.791325  5.218123   \n",
       "treatment a         80.862781  13.531054  43.0  100.0  25.733061  5.291094   \n",
       "treatment b         80.576385  13.677658  44.0  100.0  25.667179  5.506322   \n",
       "\n",
       "                   systolic_bp         \n",
       "                          mean median  \n",
       "intervention_group                     \n",
       "control             121.289720  121.0  \n",
       "treatment a         113.883999  114.0  \n",
       "treatment b         117.385915  117.0  "
      ]
     },
     "metadata": {},
     "output_type": "display_data"
    }
   ],
   "source": [
    "# TODO: Multiple aggregations\n",
    "summary_multi = summarize_by_group(\n",
    "    df,\n",
    "    'intervention_group',\n",
    "    {'age': ['mean', 'std', 'min', 'max'], 'bmi': ['mean', 'std'], 'systolic_bp': ['mean', 'median']})\n",
    "display(summary_multi)\n"
   ]
  },
  {
   "cell_type": "markdown",
   "metadata": {},
   "source": [
    "## Part 3: Comparative Analysis (5 points)\n",
    "\n",
    "Compare intervention groups:\n",
    "1. Calculate mean outcome_cvd rate by intervention_group\n",
    "2. Calculate mean adherence_pct by intervention_group\n",
    "3. Create a cross-tabulation of intervention_group vs dropout status\n",
    "4. Visualize the comparison with a bar plot"
   ]
  },
  {
   "cell_type": "code",
   "execution_count": 6,
   "metadata": {
    "execution": {
     "iopub.execute_input": "2025-10-29T06:46:08.928399Z",
     "iopub.status.busy": "2025-10-29T06:46:08.928339Z",
     "iopub.status.idle": "2025-10-29T06:46:08.940143Z",
     "shell.execute_reply": "2025-10-29T06:46:08.939812Z"
    }
   },
   "outputs": [
    {
     "name": "stdout",
     "output_type": "stream",
     "text": [
      "                    outcome_cvd\n",
      "intervention_group             \n",
      "control                0.336530\n",
      "treatment a            0.319482\n",
      "treatment b            0.333633\n",
      "                    adherence_pct\n",
      "intervention_group               \n",
      "control                 60.621688\n",
      "treatment a             60.210173\n",
      "treatment b             61.009404\n",
      "                    dropout_rate\n",
      "intervention_group              \n",
      "control                 0.151633\n",
      "treatment a             0.147546\n",
      "treatment b             0.140934\n",
      "dropout               no  yes\n",
      "intervention_group           \n",
      "control             2831  506\n",
      "treatment a         2831  490\n",
      "treatment b         2871  471\n"
     ]
    },
    {
     "name": "stderr",
     "output_type": "stream",
     "text": [
      "/var/folders/8n/6m8_4v3x60l1y2vnvtbbzcmw0000gn/T/ipykernel_16674/2878894463.py:3: FutureWarning: Downcasting behavior in `replace` is deprecated and will be removed in a future version. To retain the old behavior, explicitly call `result.infer_objects(copy=False)`. To opt-in to the future behavior, set `pd.set_option('future.no_silent_downcasting', True)`\n",
      "  df['outcome_cvd'] = df['outcome_cvd'].replace({\"No\": 0, \"no\": 0, \"Yes\": 1, \"yes\": 1})\n",
      "/var/folders/8n/6m8_4v3x60l1y2vnvtbbzcmw0000gn/T/ipykernel_16674/2878894463.py:4: FutureWarning: Downcasting behavior in `replace` is deprecated and will be removed in a future version. To retain the old behavior, explicitly call `result.infer_objects(copy=False)`. To opt-in to the future behavior, set `pd.set_option('future.no_silent_downcasting', True)`\n",
      "  df['dropout_rate'] = df['dropout'].replace({\"No\": 0, \"no\": 0, \"Yes\": 1, \"yes\": 1})\n"
     ]
    }
   ],
   "source": [
    "# TODO: Intervention group comparisons\n",
    "#print(df.columns)\n",
    "df['outcome_cvd'] = df['outcome_cvd'].replace({\"No\": 0, \"no\": 0, \"Yes\": 1, \"yes\": 1})\n",
    "df['dropout_rate'] = df['dropout'].replace({\"No\": 0, \"no\": 0, \"Yes\": 1, \"yes\": 1})\n",
    "\n",
    "intervention_summary = summarize_by_group(\n",
    "    df,\n",
    "    'intervention_group',\n",
    "    {'outcome_cvd': 'mean'})\n",
    "print(intervention_summary)\n",
    "\n",
    "intervention_summary_pct = summarize_by_group(\n",
    "    df,\n",
    "    'intervention_group',\n",
    "    {'adherence_pct': 'mean'})\n",
    "print(intervention_summary_pct)\n",
    "\n",
    "intervention_summary_dropout = summarize_by_group(\n",
    "    df,\n",
    "    'intervention_group',\n",
    "    {'dropout_rate': 'mean'})\n",
    "print(intervention_summary_dropout)\n",
    "\n",
    "print(pd.crosstab(df['intervention_group'], df['dropout']))"
   ]
  },
  {
   "cell_type": "code",
   "execution_count": 7,
   "metadata": {
    "execution": {
     "iopub.execute_input": "2025-10-29T06:46:08.941020Z",
     "iopub.status.busy": "2025-10-29T06:46:08.940952Z",
     "iopub.status.idle": "2025-10-29T06:46:09.060314Z",
     "shell.execute_reply": "2025-10-29T06:46:09.059926Z"
    }
   },
   "outputs": [
    {
     "data": {
      "text/plain": [
       "<Figure size 1000x600 with 0 Axes>"
      ]
     },
     "metadata": {},
     "output_type": "display_data"
    },
    {
     "data": {
      "image/png": "[encoded data removed]",
      "text/plain": [
       "<Figure size 640x480 with 1 Axes>"
      ]
     },
     "metadata": {},
     "output_type": "display_data"
    },
    {
     "data": {
      "text/plain": [
       "<Figure size 1000x600 with 0 Axes>"
      ]
     },
     "metadata": {},
     "output_type": "display_data"
    },
    {
     "data": {
      "image/png": "[encoded data removed]",
      "text/plain": [
       "<Figure size 640x480 with 1 Axes>"
      ]
     },
     "metadata": {},
     "output_type": "display_data"
    },
    {
     "data": {
      "text/plain": [
       "<Figure size 1000x600 with 0 Axes>"
      ]
     },
     "metadata": {},
     "output_type": "display_data"
    },
    {
     "data": {
      "image/png": "[encoded data removed]",
      "text/plain": [
       "<Figure size 640x480 with 1 Axes>"
      ]
     },
     "metadata": {},
     "output_type": "display_data"
    }
   ],
   "source": [
    "# TODO: Visualization\n",
    "\n",
    "intervention_outcome = (\n",
    "    df.groupby('intervention_group', as_index=False)['outcome_cvd']\n",
    "      .mean()\n",
    "      .rename(columns={'outcome_cvd': 'outcome_rate'})\n",
    ")\n",
    "\n",
    "plot_group_comparison(\n",
    "    data=intervention_outcome,\n",
    "    x_col='intervention_group',\n",
    "    y_col='outcome_rate',\n",
    "    title='CVD Outcome Rate by Intervention Group'\n",
    ")\n",
    "\n",
    "intervention_outcome = (\n",
    "    df.groupby('intervention_group', as_index=False)['adherence_pct']\n",
    "      .mean()\n",
    "      .rename(columns={'adherence_pct': 'adherence_pct_rate'})\n",
    ")\n",
    "\n",
    "plot_group_comparison(\n",
    "    data=intervention_outcome,\n",
    "    x_col='intervention_group',\n",
    "    y_col='adherence_pct_rate',\n",
    "    title='Adherance Rate by Intervention Group'\n",
    ")\n",
    "\n",
    "intervention_outcome = (\n",
    "    df.groupby('intervention_group', as_index=False)['dropout_rate']\n",
    "      .mean()\n",
    "      .rename(columns={'dropout_rate': 'dropout_rate'})\n",
    ")\n",
    "\n",
    "plot_group_comparison(\n",
    "    data=intervention_outcome,\n",
    "    x_col='intervention_group',\n",
    "    y_col='dropout_rate',\n",
    "    title='Dropout Rate by Intervention Group'\n",
    ")"
   ]
  },
  {
   "cell_type": "markdown",
   "metadata": {},
   "source": [
    "## Part 4: Final Report\n",
    "\n",
    "Create and save:\n",
    "1. Summary statistics by site → `output/q7_site_summary.csv`\n",
    "2. Intervention group comparison → `output/q7_intervention_comparison.csv`\n",
    "3. Text report with key findings → `output/q7_analysis_report.txt`"
   ]
  },
  {
   "cell_type": "code",
   "execution_count": 8,
   "metadata": {
    "execution": {
     "iopub.execute_input": "2025-10-29T06:46:09.061462Z",
     "iopub.status.busy": "2025-10-29T06:46:09.061390Z",
     "iopub.status.idle": "2025-10-29T06:46:09.067785Z",
     "shell.execute_reply": "2025-10-29T06:46:09.067513Z"
    }
   },
   "outputs": [],
   "source": [
    "# TODO: Save summary outputs\n",
    "summarize_site.to_csv('output/q7_site_summary.csv', index=False)\n",
    "summary_multi.to_csv('output/q7_intervention_comparison.csv', index=False)\n",
    "\n",
    "with open('output/q7_analysis_report.txt', 'w') as file:\n",
    "    print(\"The mean outcome_cvd rate by intervention group is:\\n\", file=file)\n",
    "    print(intervention_summary, file=file)\n",
    "    print(\"\\nThe mean adherence_pct by intervention group is:\\n\", file=file)    \n",
    "    print(intervention_summary_pct, file=file)\n",
    "    print(\"\\nThe dropout counts by intervention group are:\\n\", file=file)\n",
    "    print(pd.crosstab(df['intervention_group'], df['dropout']), file=file)\n"
   ]
  },
  {
   "cell_type": "markdown",
   "metadata": {},
   "source": [
    "## Summary\n",
    "\n",
    "What are the 3 most important findings from your analysis?"
   ]
  },
  {
   "cell_type": "markdown",
   "metadata": {},
   "source": [
    "**Key Findings:**\n",
    "\n",
    "1. In Treatment A, the CVD outcome rate is slightly lower, which means Treatment A might be more effective than the other treaments for reducing cardiovascular disease outcome.\n",
    "2. Another finding is that adherance did not change too much between intervention types, which is a good sign\n",
    "3. The control group had the highest CVD outcome rate with also the highest amount of dropout rate, which could be explained by its inefficinecy, so people dropped out of the study.\n"
   ]
  }
 ],
 "metadata": {
  "kernelspec": {
   "display_name": "Python 3",
   "language": "python",
   "name": "python3"
  },
  "language_info": {
   "codemirror_mode": {
    "name": "ipython",
    "version": 3
   },
   "file_extension": ".py",
   "mimetype": "text/x-python",
   "name": "python",
   "nbconvert_exporter": "python",
   "pygments_lexer": "ipython3",
   "version": "3.13.7"
  }
 },
 "nbformat": 4,
 "nbformat_minor": 2
}
